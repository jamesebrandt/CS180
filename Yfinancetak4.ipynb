{
  "nbformat": 4,
  "nbformat_minor": 0,
  "metadata": {
    "colab": {
      "provenance": [],
      "authorship_tag": "ABX9TyNY0TtnBXXg7TTMRMM2rIWJ",
      "include_colab_link": true
    },
    "kernelspec": {
      "name": "python3",
      "display_name": "Python 3"
    },
    "language_info": {
      "name": "python"
    }
  },
  "cells": [
    {
      "cell_type": "markdown",
      "metadata": {
        "id": "view-in-github",
        "colab_type": "text"
      },
      "source": [
        "<a href=\"https://colab.research.google.com/github/jamesebrandt/CS180/blob/main/Yfinancetak4.ipynb\" target=\"_parent\"><img src=\"https://colab.research.google.com/assets/colab-badge.svg\" alt=\"Open In Colab\"/></a>"
      ]
    },
    {
      "cell_type": "code",
      "execution_count": 1,
      "metadata": {
        "colab": {
          "base_uri": "https://localhost:8080/"
        },
        "id": "GN3ssMrB49nU",
        "outputId": "fb79e907-add4-4f3d-9c58-bbd581d0295d"
      },
      "outputs": [
        {
          "output_type": "stream",
          "name": "stdout",
          "text": [
            "Looking in indexes: https://pypi.org/simple, https://us-python.pkg.dev/colab-wheels/public/simple/\n",
            "Collecting yfinance\n",
            "  Downloading yfinance-0.2.12-py2.py3-none-any.whl (59 kB)\n",
            "\u001b[2K     \u001b[90m━━━━━━━━━━━━━━━━━━━━━━━━━━━━━━━━━━━━━━━━\u001b[0m \u001b[32m59.2/59.2 KB\u001b[0m \u001b[31m3.6 MB/s\u001b[0m eta \u001b[36m0:00:00\u001b[0m\n",
            "\u001b[?25hCollecting beautifulsoup4>=4.11.1\n",
            "  Downloading beautifulsoup4-4.11.2-py3-none-any.whl (129 kB)\n",
            "\u001b[2K     \u001b[90m━━━━━━━━━━━━━━━━━━━━━━━━━━━━━━━━━━━━━━━\u001b[0m \u001b[32m129.4/129.4 KB\u001b[0m \u001b[31m9.9 MB/s\u001b[0m eta \u001b[36m0:00:00\u001b[0m\n",
            "\u001b[?25hRequirement already satisfied: numpy>=1.16.5 in /usr/local/lib/python3.9/dist-packages (from yfinance) (1.22.4)\n",
            "Requirement already satisfied: pytz>=2022.5 in /usr/local/lib/python3.9/dist-packages (from yfinance) (2022.7.1)\n",
            "Requirement already satisfied: lxml>=4.9.1 in /usr/local/lib/python3.9/dist-packages (from yfinance) (4.9.2)\n",
            "Requirement already satisfied: multitasking>=0.0.7 in /usr/local/lib/python3.9/dist-packages (from yfinance) (0.0.11)\n",
            "Collecting appdirs>=1.4.4\n",
            "  Downloading appdirs-1.4.4-py2.py3-none-any.whl (9.6 kB)\n",
            "Requirement already satisfied: pandas>=1.3.0 in /usr/local/lib/python3.9/dist-packages (from yfinance) (1.3.5)\n",
            "Collecting cryptography>=3.3.2\n",
            "  Downloading cryptography-39.0.2-cp36-abi3-manylinux_2_28_x86_64.whl (4.2 MB)\n",
            "\u001b[2K     \u001b[90m━━━━━━━━━━━━━━━━━━━━━━━━━━━━━━━━━━━━━━━━\u001b[0m \u001b[32m4.2/4.2 MB\u001b[0m \u001b[31m66.4 MB/s\u001b[0m eta \u001b[36m0:00:00\u001b[0m\n",
            "\u001b[?25hCollecting html5lib>=1.1\n",
            "  Downloading html5lib-1.1-py2.py3-none-any.whl (112 kB)\n",
            "\u001b[2K     \u001b[90m━━━━━━━━━━━━━━━━━━━━━━━━━━━━━━━━━━━━━━\u001b[0m \u001b[32m112.2/112.2 KB\u001b[0m \u001b[31m11.2 MB/s\u001b[0m eta \u001b[36m0:00:00\u001b[0m\n",
            "\u001b[?25hCollecting frozendict>=2.3.4\n",
            "  Downloading frozendict-2.3.5-cp39-cp39-manylinux_2_17_x86_64.manylinux2014_x86_64.whl (112 kB)\n",
            "\u001b[2K     \u001b[90m━━━━━━━━━━━━━━━━━━━━━━━━━━━━━━━━━━━━━━\u001b[0m \u001b[32m112.8/112.8 KB\u001b[0m \u001b[31m11.4 MB/s\u001b[0m eta \u001b[36m0:00:00\u001b[0m\n",
            "\u001b[?25hCollecting requests>=2.26\n",
            "  Downloading requests-2.28.2-py3-none-any.whl (62 kB)\n",
            "\u001b[2K     \u001b[90m━━━━━━━━━━━━━━━━━━━━━━━━━━━━━━━━━━━━━━━━\u001b[0m \u001b[32m62.8/62.8 KB\u001b[0m \u001b[31m6.6 MB/s\u001b[0m eta \u001b[36m0:00:00\u001b[0m\n",
            "\u001b[?25hCollecting soupsieve>1.2\n",
            "  Downloading soupsieve-2.4-py3-none-any.whl (37 kB)\n",
            "Requirement already satisfied: cffi>=1.12 in /usr/local/lib/python3.9/dist-packages (from cryptography>=3.3.2->yfinance) (1.15.1)\n",
            "Requirement already satisfied: six>=1.9 in /usr/local/lib/python3.9/dist-packages (from html5lib>=1.1->yfinance) (1.15.0)\n",
            "Requirement already satisfied: webencodings in /usr/local/lib/python3.9/dist-packages (from html5lib>=1.1->yfinance) (0.5.1)\n",
            "Requirement already satisfied: python-dateutil>=2.7.3 in /usr/local/lib/python3.9/dist-packages (from pandas>=1.3.0->yfinance) (2.8.2)\n",
            "Collecting charset-normalizer<4,>=2\n",
            "  Downloading charset_normalizer-3.1.0-cp39-cp39-manylinux_2_17_x86_64.manylinux2014_x86_64.whl (199 kB)\n",
            "\u001b[2K     \u001b[90m━━━━━━━━━━━━━━━━━━━━━━━━━━━━━━━━━━━━━━\u001b[0m \u001b[32m199.2/199.2 KB\u001b[0m \u001b[31m19.2 MB/s\u001b[0m eta \u001b[36m0:00:00\u001b[0m\n",
            "\u001b[?25hRequirement already satisfied: urllib3<1.27,>=1.21.1 in /usr/local/lib/python3.9/dist-packages (from requests>=2.26->yfinance) (1.26.14)\n",
            "Requirement already satisfied: certifi>=2017.4.17 in /usr/local/lib/python3.9/dist-packages (from requests>=2.26->yfinance) (2022.12.7)\n",
            "Requirement already satisfied: idna<4,>=2.5 in /usr/local/lib/python3.9/dist-packages (from requests>=2.26->yfinance) (2.10)\n",
            "Requirement already satisfied: pycparser in /usr/local/lib/python3.9/dist-packages (from cffi>=1.12->cryptography>=3.3.2->yfinance) (2.21)\n",
            "Installing collected packages: appdirs, soupsieve, html5lib, frozendict, charset-normalizer, requests, cryptography, beautifulsoup4, yfinance\n",
            "  Attempting uninstall: html5lib\n",
            "    Found existing installation: html5lib 1.0.1\n",
            "    Uninstalling html5lib-1.0.1:\n",
            "      Successfully uninstalled html5lib-1.0.1\n",
            "  Attempting uninstall: requests\n",
            "    Found existing installation: requests 2.25.1\n",
            "    Uninstalling requests-2.25.1:\n",
            "      Successfully uninstalled requests-2.25.1\n",
            "  Attempting uninstall: beautifulsoup4\n",
            "    Found existing installation: beautifulsoup4 4.6.3\n",
            "    Uninstalling beautifulsoup4-4.6.3:\n",
            "      Successfully uninstalled beautifulsoup4-4.6.3\n",
            "Successfully installed appdirs-1.4.4 beautifulsoup4-4.11.2 charset-normalizer-3.1.0 cryptography-39.0.2 frozendict-2.3.5 html5lib-1.1 requests-2.28.2 soupsieve-2.4 yfinance-0.2.12\n"
          ]
        }
      ],
      "source": [
        "!pip install yfinance"
      ]
    },
    {
      "cell_type": "code",
      "source": [
        "import yfinance as yf\n",
        "\n",
        "spy = yf.Ticker(\"SPY\")\n",
        "hist = spy.history(period=\"max\")\n",
        "\n",
        "print(hist.tail())"
      ],
      "metadata": {
        "colab": {
          "base_uri": "https://localhost:8080/"
        },
        "id": "eAinXYuK5KBP",
        "outputId": "7088ae8b-f8cb-4469-b254-e340625da80a"
      },
      "execution_count": 2,
      "outputs": [
        {
          "output_type": "stream",
          "name": "stdout",
          "text": [
            "                                 Open        High         Low       Close  \\\n",
            "Date                                                                        \n",
            "2023-03-06 00:00:00-05:00  405.049988  407.450012  404.010010  404.470001   \n",
            "2023-03-07 00:00:00-05:00  404.420013  404.670013  397.630005  398.269989   \n",
            "2023-03-08 00:00:00-05:00  398.390015  399.709991  396.589996  398.920013   \n",
            "2023-03-09 00:00:00-05:00  399.739990  401.480011  390.529999  391.559998   \n",
            "2023-03-10 00:00:00-05:00  390.989990  393.160004  384.320007  385.910004   \n",
            "\n",
            "                              Volume  Dividends  Stock Splits  Capital Gains  \n",
            "Date                                                                          \n",
            "2023-03-06 00:00:00-05:00   72795900        0.0           0.0            0.0  \n",
            "2023-03-07 00:00:00-05:00  108310600        0.0           0.0            0.0  \n",
            "2023-03-08 00:00:00-05:00   74746600        0.0           0.0            0.0  \n",
            "2023-03-09 00:00:00-05:00  111945300        0.0           0.0            0.0  \n",
            "2023-03-10 00:00:00-05:00  189105300        0.0           0.0            0.0  \n"
          ]
        }
      ]
    },
    {
      "cell_type": "code",
      "source": [
        "# Define the ticker symbol for SPY\n",
        "tickerSymbol = 'SPY'\n",
        "\n",
        "# Define the start and end dates for the historical data\n",
        "start_date = '2020-01-01'\n",
        "end_date = '2023-03-08'\n",
        "\n",
        "# Retrieve historical data for SPY using yfinance\n",
        "stock_data = yf.download(tickerSymbol, start=start_date, end=end_date)\n",
        "\n",
        "# Retrieve trading volume data for SPY\n",
        "volume_data = stock_data['Volume']\n",
        "\n",
        "# Calculate moving averages for SPY\n",
        "short_ma = stock_data['Close'].rolling(window=20).mean()\n",
        "long_ma = stock_data['Close'].rolling(window=50).mean()\n",
        "\n",
        "# Calculate the Relative Strength Index (RSI) for SPY\n",
        "delta = stock_data['Close'].diff()\n",
        "gain = delta.where(delta > 0, 0)\n",
        "loss = -delta.where(delta < 0, 0)\n",
        "avg_gain = gain.rolling(window=14).mean()\n",
        "avg_loss = loss.rolling(window=14).mean()\n",
        "rs = avg_gain / avg_loss\n",
        "rsi = 100 - (100 / (1 + rs))\n",
        "\n",
        "# Calculate Bollinger Bands for SPY\n",
        "std_dev = stock_data['Close'].rolling(window=20).std()\n",
        "upper_band = short_ma + (2 * std_dev)\n",
        "lower_band = short_ma - (2 * std_dev)\n",
        "\n",
        "# Print the historical data, trading volumes, and technical indicators\n",
        "print(stock_data)\n",
        "print(volume_data)\n",
        "print(short_ma)\n",
        "print(long_ma)\n",
        "print(rsi)\n",
        "print(upper_band)\n",
        "print(lower_band)\n"
      ],
      "metadata": {
        "colab": {
          "base_uri": "https://localhost:8080/"
        },
        "id": "1ElF_fAO5KKX",
        "outputId": "e0a717b6-f714-4ce6-a989-c5a42a92001c"
      },
      "execution_count": 3,
      "outputs": [
        {
          "output_type": "stream",
          "name": "stdout",
          "text": [
            "\r[*********************100%***********************]  1 of 1 completed\n",
            "                  Open        High         Low       Close   Adj Close  \\\n",
            "Date                                                                     \n",
            "2020-01-02  323.540009  324.890015  322.529999  324.869995  309.694885   \n",
            "2020-01-03  321.160004  323.640015  321.100006  322.410004  307.349854   \n",
            "2020-01-06  320.489990  323.730011  320.359985  323.640015  308.522400   \n",
            "2020-01-07  323.019989  323.540009  322.239990  322.730011  307.654907   \n",
            "2020-01-08  322.940002  325.779999  322.670013  324.450012  309.294525   \n",
            "...                ...         ...         ...         ...         ...   \n",
            "2023-03-01  395.410004  396.690002  393.380005  394.739990  394.739990   \n",
            "2023-03-02  392.679993  398.690002  392.329987  397.809998  397.809998   \n",
            "2023-03-03  399.709991  404.450012  399.029999  404.190002  404.190002   \n",
            "2023-03-06  405.049988  407.450012  404.010010  404.470001  404.470001   \n",
            "2023-03-07  404.420013  404.670013  397.630005  398.269989  398.269989   \n",
            "\n",
            "               Volume  \n",
            "Date                   \n",
            "2020-01-02   59151200  \n",
            "2020-01-03   77709700  \n",
            "2020-01-06   55653900  \n",
            "2020-01-07   40496400  \n",
            "2020-01-08   68296000  \n",
            "...               ...  \n",
            "2023-03-01   99706800  \n",
            "2023-03-02   85127800  \n",
            "2023-03-03   90038300  \n",
            "2023-03-06   72795900  \n",
            "2023-03-07  108310600  \n",
            "\n",
            "[800 rows x 6 columns]\n",
            "Date\n",
            "2020-01-02     59151200\n",
            "2020-01-03     77709700\n",
            "2020-01-06     55653900\n",
            "2020-01-07     40496400\n",
            "2020-01-08     68296000\n",
            "                ...    \n",
            "2023-03-01     99706800\n",
            "2023-03-02     85127800\n",
            "2023-03-03     90038300\n",
            "2023-03-06     72795900\n",
            "2023-03-07    108310600\n",
            "Name: Volume, Length: 800, dtype: int64\n",
            "Date\n",
            "2020-01-02           NaN\n",
            "2020-01-03           NaN\n",
            "2020-01-06           NaN\n",
            "2020-01-07           NaN\n",
            "2020-01-08           NaN\n",
            "                 ...    \n",
            "2023-03-01    406.456001\n",
            "2023-03-02    405.806502\n",
            "2023-03-03    405.177002\n",
            "2023-03-06    404.783002\n",
            "2023-03-07    404.205002\n",
            "Name: Close, Length: 800, dtype: float64\n",
            "Date\n",
            "2020-01-02           NaN\n",
            "2020-01-03           NaN\n",
            "2020-01-06           NaN\n",
            "2020-01-07           NaN\n",
            "2020-01-08           NaN\n",
            "                 ...    \n",
            "2023-03-01    396.813200\n",
            "2023-03-02    397.104000\n",
            "2023-03-03    397.587401\n",
            "2023-03-06    398.066000\n",
            "2023-03-07    398.306800\n",
            "Name: Close, Length: 800, dtype: float64\n",
            "Date\n",
            "2020-01-02          NaN\n",
            "2020-01-03          NaN\n",
            "2020-01-06          NaN\n",
            "2020-01-07          NaN\n",
            "2020-01-08          NaN\n",
            "                ...    \n",
            "2023-03-01    28.505792\n",
            "2023-03-02    37.294631\n",
            "2023-03-03    45.411195\n",
            "2023-03-06    38.835490\n",
            "2023-03-07    33.463738\n",
            "Name: Close, Length: 800, dtype: float64\n",
            "Date\n",
            "2020-01-02           NaN\n",
            "2020-01-03           NaN\n",
            "2020-01-06           NaN\n",
            "2020-01-07           NaN\n",
            "2020-01-08           NaN\n",
            "                 ...    \n",
            "2023-03-01    420.799324\n",
            "2023-03-02    420.493896\n",
            "2023-03-03    418.933822\n",
            "2023-03-06    418.119782\n",
            "2023-03-07    417.622561\n",
            "Name: Close, Length: 800, dtype: float64\n",
            "Date\n",
            "2020-01-02           NaN\n",
            "2020-01-03           NaN\n",
            "2020-01-06           NaN\n",
            "2020-01-07           NaN\n",
            "2020-01-08           NaN\n",
            "                 ...    \n",
            "2023-03-01    392.112679\n",
            "2023-03-02    391.119107\n",
            "2023-03-03    391.420182\n",
            "2023-03-06    391.446222\n",
            "2023-03-07    390.787443\n",
            "Name: Close, Length: 800, dtype: float64\n"
          ]
        }
      ]
    },
    {
      "cell_type": "code",
      "source": [
        "import pandas as pd\n",
        "from sklearn.preprocessing import StandardScaler\n",
        "\n",
        "# Clean and normalize the data\n",
        "stock_data = stock_data.dropna()  # Remove missing values\n",
        "scaler = StandardScaler()  # Initialize a StandardScaler object\n",
        "scaled_data = scaler.fit_transform(stock_data)  # Normalize the data\n",
        "\n",
        "# Convert the data to a pandas DataFrame\n",
        "scaled_df = pd.DataFrame(scaled_data, columns=stock_data.columns, index=stock_data.index)\n",
        "\n",
        "# Feature engineering - create new features\n",
        "scaled_df['short_ma'] = scaled_df['Close'].rolling(window=20).mean()\n",
        "scaled_df['long_ma'] = scaled_df['Close'].rolling(window=50).mean()\n",
        "scaled_df['rsi'] = rsi\n",
        "scaled_df['upper_band'] = upper_band\n",
        "scaled_df['lower_band'] = lower_band\n",
        "\n",
        "# Train-test split\n",
        "split_ratio = 0.8\n",
        "split_index = int(len(scaled_df) * split_ratio)\n",
        "train_data = scaled_df.iloc[:split_index]\n",
        "test_data = scaled_df.iloc[split_index:]\n",
        "\n",
        "# Reshaping\n",
        "# For this step, the data should be in the correct format for the deep learning model you choose, which will depend on the architecture of the model and the type of input data it requires.\n"
      ],
      "metadata": {
        "id": "afiMyVtN-SuD"
      },
      "execution_count": 4,
      "outputs": []
    },
    {
      "cell_type": "code",
      "source": [
        "# Create a new feature: Moving Average Convergence Divergence (MACD)\n",
        "ema_12 = stock_data['Close'].ewm(span=12, adjust=False).mean()\n",
        "ema_26 = stock_data['Close'].ewm(span=26, adjust=False).mean()\n",
        "macd = ema_12 - ema_26\n",
        "\n",
        "# Create a new feature: On-Balance Volume (OBV)\n",
        "obv = []\n",
        "prev_obv = 0\n",
        "for i in range(len(stock_data)):\n",
        "    if stock_data['Close'][i] > stock_data['Close'][i-1]:\n",
        "        current_obv = prev_obv + volume_data[i]\n",
        "    elif stock_data['Close'][i] < stock_data['Close'][i-1]:\n",
        "        current_obv = prev_obv - volume_data[i]\n",
        "    else:\n",
        "        current_obv = prev_obv\n",
        "    obv.append(current_obv)\n",
        "    prev_obv = current_obv\n",
        "\n",
        "# Create a new feature: Chaikin Oscillator\n",
        "adl = ((stock_data['Close'] - stock_data['Low']) - (stock_data['High'] - stock_data['Close'])) / (stock_data['High'] - stock_data['Low']) * volume_data\n",
        "chaikin = adl.rolling(window=3).mean() - adl.rolling(window=10).mean()\n",
        "\n",
        "# Print the new features\n",
        "print(macd)\n",
        "print(obv)\n",
        "print(chaikin)\n"
      ],
      "metadata": {
        "colab": {
          "base_uri": "https://localhost:8080/"
        },
        "id": "_eYdqYq0VgTf",
        "outputId": "92a5518c-9bd8-40d7-9c6e-22e8073d2b03"
      },
      "execution_count": 5,
      "outputs": [
        {
          "output_type": "stream",
          "name": "stdout",
          "text": [
            "Date\n",
            "2020-01-02    0.000000\n",
            "2020-01-03   -0.196239\n",
            "2020-01-06   -0.249630\n",
            "2020-01-07   -0.361209\n",
            "2020-01-08   -0.307304\n",
            "                ...   \n",
            "2023-03-01   -1.064174\n",
            "2023-03-02   -1.231751\n",
            "2023-03-03   -0.840060\n",
            "2023-03-06   -0.501271\n",
            "2023-03-07   -0.724713\n",
            "Name: Close, Length: 800, dtype: float64\n",
            "[-59151200, -136860900, -81207000, -121703400, -53407400, -4934100, -57963400, -10876600, -73709400, -1652800, 52397500, 148243500, 70501100, 119416000, 171379000, 83800600, -261900, 63572100, 9683200, 85175000, -28670600, 40412400, 102985600, 168936700, 219296400, 155157000, 197227000, 252091500, 296084200, 241582300, 306164500, 248938300, 297753000, 223589600, 109801400, -51287000, -270200200, -464974000, -749327500, -1134303300, -895599700, -1195738800, -1019125400, -1205492200, -1434159400, -1743576700, -1467132600, -1722448900, -2114669600, -1785103500, -2082343500, -1820273000, -2147870100, -1858548100, -2205706900, -2531732100, -2296237600, -1996807300, -1739174500, -1963515700, -1792146200, -1987027300, -2176581900, -1998921500, -2134482700, -1946421500, -1744994300, -1591219800, -1401220600, -1516059700, -1381916300, -1503691300, -1371893000, -1225208200, -1325317500, -1451703200, -1358751600, -1463461300, -1378398100, -1300501500, -1405771500, -1287025900, -1409927600, -1535107600, -1454234400, -1374664500, -1448297100, -1373046700, -1296594300, -1217080100, -1312950900, -1457672000, -1335694100, -1224547800, -1104844000, -1200033300, -1114171600, -1192465500, -1128507300, -1039555900, -934738500, -1025143700, -906052900, -850294600, -776027400, -683459800, -759254200, -608729500, -535088300, -612567500, -707568300, -916811900, -722133000, -586350300, -448722800, -532121700, -451293000, -586842600, -512193200, -443722000, -576535500, -487067500, -615028500, -535255200, -421860400, -349463900, -280119700, -218405900, -301315900, -246677300, -330031500, -272481100, -375478600, -281821600, -194625100, -249247600, -186472700, -130163900, -72871700, -15078800, -90816800, -164583400, -116290400, -173785400, -125331200, -187192900, -102206100, -49128200, -7210300, 35487400, 79166800, 136475100, 180757200, 111156100, 164930500, 123114400, 170374800, 205855800, 244589700, 176535500, 218743300, 273849900, 322438600, 360902000, 411692200, 469726300, 518315200, 452216000, 507124700, 576664700, 428653600, 289497300, 175032000, 266494300, 175924800, 260605000, 326210700, 379131600, 297035600, 205512300, 99634400, 183600, 63795700, -29316500, 47364800, 118434200, 183018800, 131714800, 235795900, 324494600, 235063500, 280776600, 190647700, 247647300, 292889800, 352418400, 432806900, 359551400, 301823500, 241465800, 151963900, 83538300, 143590200, 80015200, 135414500, 184558400, 93085400, 27091300, -100003000, -9405300, -129692600, -43624300, 49669900, 176629600, 258669300, 183696300, 356000500, 270448500, 329097500, 261551300, 324443500, 398984600, 332873600, 262282300, 322223200, 251805900, 315036500, 377452400, 332121500, 360635600, 276762900, 350994300, 396921300, 334039300, 384789200, 335844900, 378303800, 304205500, 246470100, 188771500, 119555300, 183420600, 241841100, 305960600, 169418300, 73031600, 25082600, 71284000, 97741900, 136742300, 83061800, 132517100, 211037800, 100827000, 167253200, 275250900, 344017700, 415694900, 364660200, 417207900, 462511500, 412522400, 305362400, 356595700, 418431800, 466271900, 413411400, 483813400, 441148100, 317797000, 411995100, 285230000, 361047600, 425498300, 477925400, 525068000, 573737800, 612103000, 576551900, 517397500, 560310800, 610904100, 559931700, 612222300, 552509500, 469268500, 401854300, 509138400, 581572300, 434901800, 282200200, 387549000, 307953700, 188013500, 4580500, 156620100, 33470900, 147104500, 257003900, 343248900, 407902500, 481329700, 407607200, 505566500, 390217400, 276592900, 350371500, 259684900, 162096300, 278224900, 392634000, 284526400, 208264200, 320998400, 420681300, 512366100, 450345100, 506181400, 564044500, 625149100, 681854000, 738405000, 676745100, 736974900, 819012200, 740513700, 658661900, 725454900, 627872100, 701081300, 753263700, 701960600, 650721700, 729266000, 643739000, 711867300, 610276100, 670438300, 744759700, 812493500, 730641100, 613753100, 478942100, 585336100, 667537700, 602408500, 542598300, 436131200, 514153400, 437574700, 488951400, 431500000, 474588600, 531296300, 589816500, 535599900, 584697000, 526558200, 582497000, 530942000, 578076300, 529640000, 580660100, 626230900, 668589400, 617080900, 536694800, 445745100, 327068800, 399890800, 457591100, 408145700, 453256000, 511385500, 564545100, 600515600, 665343500, 718784500, 776482200, 707771800, 771321300, 673726100, 749964700, 802854300, 749943000, 814073400, 758947000, 683072300, 535085300, 634693500, 699417900, 747296400, 811063000, 854782200, 787385100, 734912700, 782348000, 713396800, 654613500, 712667400, 665935200, 704904900, 751834900, 710612300, 753951600, 797985900, 836895300, 876365600, 950105600, 857431700, 768079800, 860892000, 932900700, 987873700, 1026618400, 1067148100, 1009318500, 1086553600, 1134911000, 1075610800, 1124332200, 1166833200, 1119662700, 1067991200, 1011809300, 953838900, 863890700, 947629300, 869432200, 948224400, 870437700, 752012700, 585567200, 493041100, 595391200, 671787200, 733882000, 672510900, 542074600, 624403800, 483897800, 613137900, 484567900, 575250400, 688282600, 760720100, 686162700, 620929400, 549748200, 622722200, 692959000, 759219200, 821432400, 868429200, 918000800, 959306200, 900461100, 945675600, 1001750700, 929312700, 980750600, 1050913000, 1099346600, 1148255000, 1200764800, 1253611900, 1320002500, 1370407700, 1319258600, 1249828900, 1284677400, 1338144100, 1385124600, 1433982100, 1386123800, 1436749400, 1379433800, 1306671800, 1379878300, 1441737100, 1329067500, 1415336300, 1266776700, 1134837500, 1262475300, 1125143700, 1224121200, 1319605900, 1391844700, 1330572100, 1407731900, 1320007200, 1222743100, 1339642400, 1223073800, 1087562200, 980427400, 1050233700, 1109123900, 1165563600, 1222372200, 1175097600, 1229600600, 1174271600, 1109034200, 1181702400, 1110523700, 1005984800, 919125900, 834014300, 714652300, 788955400, 856560800, 765387700, 861278600, 751569500, 642211900, 519832200, 317561000, 569344900, 401347600, 214956500, 65078200, 229535600, 381787000, 504942400, 622303400, 504279000, 622733400, 538260500, 619272500, 711862400, 571758700, 418544100, 295537800, 384020500, 468884100, 366625000, 233982100, 109590300, -22987700, 190955200, 312759700, 167144700, 29358800, 147085300, 41583600, -72394600, -210291200, -375063900, -258073100, -352045800, -447682100, -543411300, -437192200, -292237400, -189560500, -83215000, -171564800, -96914400, -176340500, -111603600, -34502300, 34027500, 120609000, 40942100, -80757800, 8291000, 67892000, -6322500, -113220500, -35123300, -114396000, -204166500, -288530100, -214459700, -312329200, -246326700, -168505700, -233730100, -319147400, -451619200, -331971500, -435967800, -313937800, -208488700, -353979800, -195667300, -95639100, 48608800, -124320300, -276091100, -431677200, -299180000, -441541000, -566631800, -462457400, -541079800, -458050100, -575724600, -674235300, -542803100, -466388200, -557837000, -466364100, -384195800, -299427100, -395364100, -481949900, -402340300, -474214600, -416705700, -357433300, -421783300, -508073100, -640967000, -810971900, -914983700, -789316900, -923790200, -1034904100, -958092200, -1048151600, -968859500, -870809200, -936818800, -1023367700, -1089043700, -1201552000, -1126712300, -1045274300, -974848100, -910322200, -982720000, -1041086900, -1103306100, -1187530700, -1277235500, -1198175100, -1261378700, -1182872700, -1111028900, -1046125000, -1118322300, -1064690800, -1117637200, -1035295100, -961328500, -874324800, -944322300, -1007757700, -939937100, -985593700, -1042408600, -1096294700, -1141226500, -1072560800, -1072560800, -1010866300, -956818000, -897529000, -961092400, -912069200, -980086100, -1057781700, -1106886900, -1057709100, -1006766800, -1109853800, -1175224600, -1260877000, -1336906700, -1258166600, -1357798700, -1434436100, -1363471900, -1282650200, -1205943300, -1136687000, -1259634100, -1174610400, -1262244200, -1365329000, -1292050500, -1369325400, -1476072000, -1565544600, -1687891500, -1780472700, -1888766800, -1777964600, -1890916900, -2044628100, -1954871600, -1851268800, -1939334500, -2021668000, -2129457500, -2205500300, -2297983100, -2374974900, -2227720400, -2351457400, -2258289200, -2161126300, -2240873200, -2329156300, -2198117900, -2112681000, -2033834700, -2137922000, -2219893800, -2119591800, -2216223100, -2301630700, -2428621100, -2515721200, -2412216000, -2343929100, -2259288000, -2337783500, -2196327700, -2102487800, -2174391300, -2081196800, -2149705300, -2224201600, -2131279100, -2182522300, -2122093300, -2053831700, -2084377100, -2152258700, -2204568700, -2060002000, -2136400200, -2221742900, -2299032700, -2377004900, -2442932800, -2382194900, -2463642600, -2388236800, -2264454300, -2372565600, -2490271500, -2610129500, -2690007600, -2615580400, -2537413000, -2637533900, -2577676600, -2629314800, -2700226300, -2633255400, -2717277600, -2792128300, -2706194200, -2783164700, -2678975100, -2752953200, -2687595100, -2618714000, -2528556300, -2464652400, -2527329700, -2626962000, -2713920900, -2622114500, -2537935700, -2597460600, -2512660300, -2440372900, -2372026700, -2446228700, -2359416900, -2257957700, -2156303200, -2251040000, -2311335300, -2220344600, -2296572100, -2375267000, -2304497300, -2239583800, -2327973100, -2266417400, -2342848900, -2432106700, -2514762600, -2598504900, -2502262500, -2610456900, -2530012200, -2626450800, -2726157600, -2641029800, -2550991500, -2478195600, -2586506200]\n",
            "Date\n",
            "2020-01-02             NaN\n",
            "2020-01-03             NaN\n",
            "2020-01-06             NaN\n",
            "2020-01-07             NaN\n",
            "2020-01-08             NaN\n",
            "                  ...     \n",
            "2023-03-01   -4.275376e+07\n",
            "2023-03-02   -7.207999e+06\n",
            "2023-03-03    3.447710e+07\n",
            "2023-03-06    3.559438e+07\n",
            "2023-03-07   -1.303645e+07\n",
            "Length: 800, dtype: float64\n"
          ]
        }
      ]
    },
    {
      "cell_type": "code",
      "source": [
        "# Convert the data into a time-series format\n",
        "train_data_ts = train_data['Close'].values.reshape(-1, 1)\n",
        "test_data_ts = test_data['Close'].values.reshape(-1, 1)\n",
        "\n",
        "# Apply rolling window transformations\n",
        "window_size = 20\n",
        "train_data_ts = np.array([train_data_ts[i:i+window_size] for i in range(len(train_data_ts)-window_size)])\n",
        "test_data_ts = np.array([test_data_ts[i:i+window_size] for i in range(len(test_data_ts)-window_size)])\n",
        "\n",
        "# Smooth the time-series data using an exponential moving average (EMA)\n",
        "alpha = 0.5\n",
        "train_data_ts_smoothed = []\n",
        "prev_val = train_data_ts[0][0]\n",
        "for i in range(len(train_data_ts)):\n",
        "    curr_val = alpha*train_data_ts[i].mean() + (1-alpha)*prev_val\n",
        "    train_data_ts_smoothed.append(curr_val)\n",
        "    prev_val = curr_val\n",
        "\n",
        "test_data_ts_smoothed = []\n",
        "prev_val = test_data_ts[0][0]\n",
        "for i in range(len(test_data_ts)):\n",
        "    curr_val = alpha*test_data_ts[i].mean() + (1-alpha)*prev_val\n",
        "    test_data_ts_smoothed.append(curr_val)\n",
        "    prev_val = curr_val"
      ],
      "metadata": {
        "id": "FXha4-W2YXwC",
        "colab": {
          "base_uri": "https://localhost:8080/",
          "height": 545
        },
        "outputId": "611f41ab-3cc2-4d0b-8451-fa08bfa7cd2f"
      },
      "execution_count": 6,
      "outputs": [
        {
          "output_type": "error",
          "ename": "NameError",
          "evalue": "ignored",
          "traceback": [
            "\u001b[0;31m---------------------------------------------------------------------------\u001b[0m",
            "\u001b[0;31mNameError\u001b[0m                                 Traceback (most recent call last)",
            "\u001b[0;32m<ipython-input-6-2783006fceb0>\u001b[0m in \u001b[0;36m<module>\u001b[0;34m\u001b[0m\n\u001b[1;32m      5\u001b[0m \u001b[0;31m# Apply rolling window transformations\u001b[0m\u001b[0;34m\u001b[0m\u001b[0;34m\u001b[0m\u001b[0m\n\u001b[1;32m      6\u001b[0m \u001b[0mwindow_size\u001b[0m \u001b[0;34m=\u001b[0m \u001b[0;36m20\u001b[0m\u001b[0;34m\u001b[0m\u001b[0;34m\u001b[0m\u001b[0m\n\u001b[0;32m----> 7\u001b[0;31m \u001b[0mtrain_data_ts\u001b[0m \u001b[0;34m=\u001b[0m \u001b[0mnp\u001b[0m\u001b[0;34m.\u001b[0m\u001b[0marray\u001b[0m\u001b[0;34m(\u001b[0m\u001b[0;34m[\u001b[0m\u001b[0mtrain_data_ts\u001b[0m\u001b[0;34m[\u001b[0m\u001b[0mi\u001b[0m\u001b[0;34m:\u001b[0m\u001b[0mi\u001b[0m\u001b[0;34m+\u001b[0m\u001b[0mwindow_size\u001b[0m\u001b[0;34m]\u001b[0m \u001b[0;32mfor\u001b[0m \u001b[0mi\u001b[0m \u001b[0;32min\u001b[0m \u001b[0mrange\u001b[0m\u001b[0;34m(\u001b[0m\u001b[0mlen\u001b[0m\u001b[0;34m(\u001b[0m\u001b[0mtrain_data_ts\u001b[0m\u001b[0;34m)\u001b[0m\u001b[0;34m-\u001b[0m\u001b[0mwindow_size\u001b[0m\u001b[0;34m)\u001b[0m\u001b[0;34m]\u001b[0m\u001b[0;34m)\u001b[0m\u001b[0;34m\u001b[0m\u001b[0;34m\u001b[0m\u001b[0m\n\u001b[0m\u001b[1;32m      8\u001b[0m \u001b[0mtest_data_ts\u001b[0m \u001b[0;34m=\u001b[0m \u001b[0mnp\u001b[0m\u001b[0;34m.\u001b[0m\u001b[0marray\u001b[0m\u001b[0;34m(\u001b[0m\u001b[0;34m[\u001b[0m\u001b[0mtest_data_ts\u001b[0m\u001b[0;34m[\u001b[0m\u001b[0mi\u001b[0m\u001b[0;34m:\u001b[0m\u001b[0mi\u001b[0m\u001b[0;34m+\u001b[0m\u001b[0mwindow_size\u001b[0m\u001b[0;34m]\u001b[0m \u001b[0;32mfor\u001b[0m \u001b[0mi\u001b[0m \u001b[0;32min\u001b[0m \u001b[0mrange\u001b[0m\u001b[0;34m(\u001b[0m\u001b[0mlen\u001b[0m\u001b[0;34m(\u001b[0m\u001b[0mtest_data_ts\u001b[0m\u001b[0;34m)\u001b[0m\u001b[0;34m-\u001b[0m\u001b[0mwindow_size\u001b[0m\u001b[0;34m)\u001b[0m\u001b[0;34m]\u001b[0m\u001b[0;34m)\u001b[0m\u001b[0;34m\u001b[0m\u001b[0;34m\u001b[0m\u001b[0m\n\u001b[1;32m      9\u001b[0m \u001b[0;34m\u001b[0m\u001b[0m\n",
            "\u001b[0;31mNameError\u001b[0m: name 'np' is not defined"
          ]
        }
      ]
    }
  ]
}